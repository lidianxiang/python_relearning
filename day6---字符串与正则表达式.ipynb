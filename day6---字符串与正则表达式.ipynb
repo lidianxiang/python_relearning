{
 "cells": [
  {
   "cell_type": "markdown",
   "metadata": {},
   "source": [
    "### 正则表达式"
   ]
  },
  {
   "cell_type": "markdown",
   "metadata": {},
   "source": [
    "#### 在编写处理字符串的程序或网页时，经常会有查找符合某些复杂规则的字符串的需要，正则表达式就是用于描述这些规则的工具，换句话说正则表达式是一种工具，它定义了字符串的匹配模式（如何检查一个字符串是否有跟某种模式匹配的部分或者从一个字符串中将与模式匹配的部分提取出来或者替换掉）。如果你在Windows操作系统中使用过文件查找并且在指定文件名时使用过通配符（*和?），那么正则表达式也是与之类似的用来进行文本匹配的工具，只不过比起通配符正则表达式更强大，它能更精确地描述你的需求（当然你付出的代价是书写一个正则表达式比打出一个通配符要复杂得多，要知道任何给你带来好处的东西都是有代价的，就如同学习一门编程语言一样），比如你可以编写一个正则表达式，用来查找所有以0开头，后面跟着2-3个数字，然后是一个连字号“-”，最后是7或8位数字的字符串（像028-12345678或0813-7654321），这不就是国内的座机号码吗。最初计算机是为了做数学运算而诞生的，处理的信息基本上都是数值，而今天我们在日常工作中处理的信息基本上都是文本数据，我们希望计算机能够识别和处理符合某些模式的文本，正则表达式就显得非常重要了。今天几乎所有的编程语言都提供了对正则表达式操作的支持，Python通过标准库中的re模块来支持正则表达式操作。"
   ]
  },
  {
   "cell_type": "code",
   "execution_count": 1,
   "metadata": {
    "collapsed": false
   },
   "outputs": [
    {
     "name": "stdout",
     "output_type": "stream",
     "text": [
      "请输入用户名:lidinxiang\n",
      "请输入QQ号:12356998\n",
      "您输入的信息是有效的！\n"
     ]
    }
   ],
   "source": [
    "# 练习1、验证输入用户名和QQ号是否有效并给出对应的提示信息\n",
    "\"\"\"\n",
    "验证输入用户名和QQ号是否有效并给出对应的提示\n",
    "\n",
    "要求：\n",
    "用户名必须是有字母、数字或下划线构成且长度在6~20个字符之间\n",
    "QQ号是5~12的数字且首位不能是0\n",
    "\"\"\"\n",
    "\n",
    "import re\n",
    "\n",
    "def main():\n",
    "    username = input('请输入用户名:')\n",
    "    qq = input('请输入QQ号:')\n",
    "    #match函数的第一个参数是正则表达式字符串或正则表达式对象\n",
    "    #第二个参数是要跟正则表达式做匹配的字符串对象\n",
    "    m1 = re.match(r'^[0-9a-zA-Z]{6,20}$',username)\n",
    "    if not m1:\n",
    "        print('请输入有效的用户名')\n",
    "    m2 = re.match(r'^[1-9][0-9]{4,11}$',qq)\n",
    "    if not qq:\n",
    "        print('请输入有效的QQ号')\n",
    "    if m1 and m2:\n",
    "        print('您输入的信息是有效的！')\n",
    "        \n",
    "if __name__ == \"__main__\":\n",
    "    main()\n",
    "    "
   ]
  },
  {
   "cell_type": "markdown",
   "metadata": {},
   "source": [
    "#### 提示：上面在书写正则表达式时使用了“原始字符串”的写法（在字符串前面加上了r），所谓“原始字符串”就是字符串中的每个字符都是它原始的意义，说得更直接一点就是字符串中没有所谓的转义字符啦。因为正则表达式中有很多元字符和需要进行转义的地方，如果不使用原始字符串就需要将反斜杠写作\\\\，例如表示数字的\\d得书写成\\\\d，这样不仅写起来不方便，阅读的时候也会很吃力。"
   ]
  },
  {
   "cell_type": "code",
   "execution_count": 5,
   "metadata": {
    "collapsed": false
   },
   "outputs": [
    {
     "name": "stdout",
     "output_type": "stream",
     "text": [
      "['13512346789', '15600998765', '15600998765']\n",
      "------------------华丽的分割线----------------\n",
      "13512346789\n",
      "15600998765\n",
      "15600998765\n",
      "------------------华丽的分割线----------------\n",
      "13512346789\n",
      "15600998765\n",
      "15600998765\n"
     ]
    }
   ],
   "source": [
    "# 练习2：从一段文字中提取国内的手机号码\n",
    "\"\"\"\n",
    "电信号段：133/153/180/181/189/177\n",
    "联通号段：130/131/132/155/156/185/186/145/176\n",
    "移动号段：134/135/136/137/138/139/150/151/152/157/158/159/182/183/184/187/188/147/178\n",
    "\"\"\"\n",
    "\n",
    "import re \n",
    "\n",
    "def main():\n",
    "    #创建正则表达式对象，使用了前瞻和回顾来保证手机号前后不应该出现数字\n",
    "    pattern = re.compile(r'(?<=\\D)1[34578]\\d{9}(?=\\D)')\n",
    "    sentence = \"\"\"\n",
    "    重要的事情说8130123456789遍，我的手机号是13512346789这个靓号，\n",
    "    不是15600998765，也是110或119，王大锤的手机号才是15600998765。\n",
    "    \"\"\"\n",
    "    #查找所有匹配并保存在一个列表中\n",
    "    mylist = re.findall(pattern,sentence)\n",
    "    print(mylist)\n",
    "    print('------------------华丽的分割线----------------')\n",
    "    #通过迭代器取出匹配对象并获得匹配的内容\n",
    "    for temp in pattern.finditer(sentence):\n",
    "        print(temp.group())\n",
    "    print('------------------华丽的分割线----------------')\n",
    "    m = pattern.search(sentence)\n",
    "    while m:\n",
    "        print(m.group())\n",
    "        m = pattern.search(sentence,m.end())\n",
    "        \n",
    "if __name__ == \"__main__\":\n",
    "    main()"
   ]
  },
  {
   "cell_type": "markdown",
   "metadata": {},
   "source": [
    "#### 说明：上面匹配国内手机号的正则表达式并不够好，因为像14开头的号码只有145或147，而上面的正则表达式并没有考虑这种情况，要匹配国内手机号，更好的正则表达式的写法是：(?<=\\D)(1[38]\\d{9}|14[57]\\d{8}|15[0-35-9]\\d{8}|17[678]\\d{8})(?=\\D)，国内最近好像有19和16开头的手机号了，但是这个暂时不在我们考虑之列。"
   ]
  },
  {
   "cell_type": "code",
   "execution_count": 6,
   "metadata": {
    "collapsed": false
   },
   "outputs": [
    {
     "name": "stdout",
     "output_type": "stream",
     "text": [
      "你丫的是*吗?我*你大爷的.* you\n"
     ]
    }
   ],
   "source": [
    "# 练习3：替换字符串中的不良内容\n",
    "import re \n",
    "\n",
    "def main():\n",
    "    sentence = \"你丫的是傻叉吗?我操你大爷的.Fuck you\"\n",
    "    purified = re.sub('[操草艹肏曹]|fuck|shit|傻[比逼屄比叉缺叼屌]|煞笔',\"*\",sentence,flags=re.IGNORECASE)\n",
    "    print(purified)\n",
    "    \n",
    "    \n",
    "if __name__ == \"__main__\":\n",
    "    main()"
   ]
  },
  {
   "cell_type": "markdown",
   "metadata": {},
   "source": [
    "#### 说明：re模块的正则表达式相关函数中都有一个flags参数，它代表了正则表达式的匹配标记，可以通过该标记来指定匹配时是否忽略大小写、是否进行多行匹配、是否显示调试信息等。如果需要为flags参数指定多个值，可以使用按位或运算符进行叠加，如flags=re.I | re.M。"
   ]
  },
  {
   "cell_type": "code",
   "execution_count": 7,
   "metadata": {
    "collapsed": false
   },
   "outputs": [
    {
     "name": "stdout",
     "output_type": "stream",
     "text": [
      "['床前明月光', '疑是地上霜', '举头望明月', '低头思故乡']\n"
     ]
    }
   ],
   "source": [
    "# 练习4：拆分长字符串\n",
    "import re \n",
    "\n",
    "def main():\n",
    "    poem = \"床前明月光，疑是地上霜。举头望明月，低头思故乡。\"\n",
    "    sentence_list = re.split(r'[，。,.]',poem)\n",
    "    while \"\" in sentence_list:\n",
    "        sentence_list.remove(\"\")\n",
    "    print(sentence_list)\n",
    "    \n",
    "if __name__ == \"__main__\":\n",
    "    main()"
   ]
  },
  {
   "cell_type": "markdown",
   "metadata": {},
   "source": [
    "#### 如果要从事爬虫类应用的开发，那么正则表达式一定是一个非常好的助手，因为它可以帮助我们迅速的从网页代码中发现某种我们指定的模式并提取出我们需要的信息，当然对于初学者来收，要编写一个正确的适当的正则表达式可能并不是一件容易的事情（当然有些常用的正则表达式可以直接在网上找找），所以实际开发爬虫应用的时候，有很多人会选择Beautiful Soup或Lxml来进行匹配和信息的提取，前者简单方便但是性能较差，后者既好用性能也好，但是安装稍嫌麻烦，"
   ]
  },
  {
   "cell_type": "code",
   "execution_count": null,
   "metadata": {
    "collapsed": true
   },
   "outputs": [],
   "source": []
  }
 ],
 "metadata": {
  "anaconda-cloud": {},
  "kernelspec": {
   "display_name": "Python [default]",
   "language": "python",
   "name": "python3"
  },
  "language_info": {
   "codemirror_mode": {
    "name": "ipython",
    "version": 3
   },
   "file_extension": ".py",
   "mimetype": "text/x-python",
   "name": "python",
   "nbconvert_exporter": "python",
   "pygments_lexer": "ipython3",
   "version": "3.5.5"
  }
 },
 "nbformat": 4,
 "nbformat_minor": 1
}
