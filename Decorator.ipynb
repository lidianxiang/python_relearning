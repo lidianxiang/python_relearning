{
 "cells": [
  {
   "cell_type": "markdown",
   "metadata": {},
   "source": [
    "# 装饰器"
   ]
  },
  {
   "cell_type": "markdown",
   "metadata": {},
   "source": [
    "了解几个问题：\n",
    "1. 装饰器是什么\n",
    "2. 有什么用途，有什么好处\n",
    "3. 类似的设计程序设计理念\n",
    "4. 怎么实现装饰器\n",
    "5. 系统自带的装饰器"
   ]
  },
  {
   "cell_type": "markdown",
   "metadata": {},
   "source": [
    "## 装饰器是什么\n",
    "\n",
    "闭包\n",
    "\n",
    "Python 的一个语法糖"
   ]
  },
  {
   "cell_type": "markdown",
   "metadata": {},
   "source": [
    "## 用途及好处\n",
    "\n",
    "更加灵活地添加新的功能，使代码更简洁，可读性更强；\n",
    "\n",
    "数据校验 参考 httpauth 中的 verify_password\n",
    "\n",
    "事务处理\n",
    "\n",
    "缓存\n",
    "\n",
    "日志\n",
    "\n",
    "监控\n",
    "\n",
    "调试\n",
    "\n",
    "业务规则\n",
    "\n",
    "压缩\n",
    "\n",
    "加密"
   ]
  },
  {
   "cell_type": "markdown",
   "metadata": {},
   "source": [
    "## 类似的设计理念\n",
    "\n",
    "设计模式中的装饰器模式，但千万别和设计模式里面的装饰器模式搞混了，都是想要对一个已有的模块做一些“装饰工作”，所谓装饰工作就是想**给现有的模块加上一些小装饰（一些小功能，这些小功能可能好多模块都会用到），但又不让这个小装饰（小功能）侵入到原有的模块中的代码里去**。\n",
    "\n",
    "Python 的 Decorator在使用上和Java/C#的Annotation很相似，就是在方法名前面加一个@XXX注解来为这个方法装饰一些东西。"
   ]
  },
  {
   "cell_type": "markdown",
   "metadata": {},
   "source": [
    "无论何时我们想对一个对象添加额外的功能，都有下面这些不同的可选方法。\n",
    "\n",
    "如果合理，可以直接将功能添加到对象所属的类（例如，添加一个新的方法）\n",
    "使用组合\n",
    "使用继承\n",
    "\n",
    "设计模式为我们提供第四种可选方法，以支持动态地（运行时）扩展一个对象的功能，这种方法就是装饰器。装饰器（Decorator）模式能够以透明的方式（不会影响其他对象）动态地将功能添加到一个对象中"
   ]
  },
  {
   "cell_type": "markdown",
   "metadata": {},
   "source": [
    "## 实现方法"
   ]
  },
  {
   "cell_type": "code",
   "execution_count": 3,
   "metadata": {
    "collapsed": false
   },
   "outputs": [
    {
     "name": "stdout",
     "output_type": "stream",
     "text": [
      "hello, foo\n",
      "i am foo\n",
      "goodby, foo\n"
     ]
    }
   ],
   "source": [
    "def hello(fn):\n",
    "    def wrapper():\n",
    "        print(\"hello, %s\" % fn.__name__)\n",
    "        fn()\n",
    "        print(\"goodby, %s\" % fn.__name__)\n",
    "    return wrapper\n",
    " \n",
    "@hello\n",
    "def foo():\n",
    "    print(\"i am foo\")\n",
    " \n",
    "foo()"
   ]
  },
  {
   "cell_type": "code",
   "execution_count": 28,
   "metadata": {
    "collapsed": false
   },
   "outputs": [
    {
     "data": {
      "text/plain": [
       "139583862445"
      ]
     },
     "execution_count": 28,
     "metadata": {},
     "output_type": "execute_result"
    }
   ],
   "source": [
    "def memo(func):\n",
    "    \"\"\"\n",
    "    remember\n",
    "    \"\"\"\n",
    "    d = dict()\n",
    "    def wrapper(x):\n",
    "        if x not in d:            \n",
    "            d[x] = func(x)\n",
    "        return d[x]\n",
    "    return wrapper\n",
    "\n",
    "@memo\n",
    "def fib(n):\n",
    "    if n == 0:\n",
    "        return 0\n",
    "    elif n == 1:\n",
    "        return 1\n",
    "    else:\n",
    "        return fib(n-1) + fib(n-2)\n",
    "\n",
    "fib(55)"
   ]
  },
  {
   "cell_type": "code",
   "execution_count": null,
   "metadata": {
    "collapsed": true
   },
   "outputs": [],
   "source": []
  },
  {
   "cell_type": "code",
   "execution_count": 25,
   "metadata": {
    "collapsed": false
   },
   "outputs": [
    {
     "data": {
      "text/plain": [
       "139583862445"
      ]
     },
     "execution_count": 25,
     "metadata": {},
     "output_type": "execute_result"
    }
   ],
   "source": [
    "class memorize:\n",
    "    \"\"\"\n",
    "    remember\n",
    "    \"\"\"\n",
    "    def __init__(self, func):\n",
    "        self.func = func\n",
    "        self.d = {}\n",
    "        \n",
    "    def __call__(self, *args):\n",
    "        if args not in self.d:\n",
    "            self.d[args] = self.func(*args)\n",
    "        return self.d[args]\n",
    "    \n",
    "@memorize\n",
    "def fibc(n):\n",
    "    if n == 0:\n",
    "        return 0\n",
    "    elif n == 1:\n",
    "        return 1\n",
    "    else:\n",
    "        return fibc(n-1) + fibc(n-2)\n",
    "\n",
    "fibc(55)"
   ]
  },
  {
   "cell_type": "code",
   "execution_count": null,
   "metadata": {
    "collapsed": true
   },
   "outputs": [],
   "source": []
  },
  {
   "cell_type": "code",
   "execution_count": 41,
   "metadata": {
    "collapsed": true
   },
   "outputs": [],
   "source": [
    "import time\n",
    "# from functools import wraps\n",
    "def timethis(func):\n",
    "    '''\n",
    "    Decorator that reports the execution time.\n",
    "    '''\n",
    "#     @wraps(func)\n",
    "    def wrapper(*args, **kwargs):\n",
    "        start = time.time()\n",
    "        result = func(*args, **kwargs)\n",
    "        end = time.time()\n",
    "        print(func.__name__, end-start)\n",
    "        return result\n",
    "    return wrapper"
   ]
  },
  {
   "cell_type": "code",
   "execution_count": 39,
   "metadata": {
    "collapsed": true
   },
   "outputs": [],
   "source": [
    "import time\n",
    "from functools import wraps\n",
    "def timethis(func):\n",
    "    '''\n",
    "    Decorator that reports the execution time.\n",
    "    '''\n",
    "    @wraps(func)\n",
    "    def wrapper(*args, **kwargs):\n",
    "        start = time.time()\n",
    "        result = func(*args, **kwargs)\n",
    "        end = time.time()\n",
    "        print(func.__name__, end-start)\n",
    "        return result\n",
    "    return wrapper"
   ]
  },
  {
   "cell_type": "code",
   "execution_count": 40,
   "metadata": {
    "collapsed": false
   },
   "outputs": [
    {
     "name": "stdout",
     "output_type": "stream",
     "text": [
      "done\n",
      "countdown 0.00716710090637207\n"
     ]
    }
   ],
   "source": [
    "@timethis\n",
    "def countdown(n):\n",
    "    '''\n",
    "    Counts down\n",
    "    '''\n",
    "    while n > 0:\n",
    "        n -= 1\n",
    "    print('done')\n",
    "countdown(100000)"
   ]
  },
  {
   "cell_type": "markdown",
   "metadata": {},
   "source": [
    "产生了一个问题："
   ]
  },
  {
   "cell_type": "code",
   "execution_count": 41,
   "metadata": {
    "collapsed": false
   },
   "outputs": [
    {
     "data": {
      "text/plain": [
       "'countdown'"
      ]
     },
     "execution_count": 41,
     "metadata": {},
     "output_type": "execute_result"
    }
   ],
   "source": [
    "countdown.__name__"
   ]
  },
  {
   "cell_type": "code",
   "execution_count": 43,
   "metadata": {
    "collapsed": false
   },
   "outputs": [
    {
     "data": {
      "text/plain": [
       "'\\n    Counts down\\n    '"
      ]
     },
     "execution_count": 43,
     "metadata": {},
     "output_type": "execute_result"
    }
   ],
   "source": [
    "countdown.__doc__"
   ]
  },
  {
   "cell_type": "code",
   "execution_count": 49,
   "metadata": {
    "collapsed": false
   },
   "outputs": [
    {
     "data": {
      "text/plain": [
       "{}"
      ]
     },
     "execution_count": 49,
     "metadata": {},
     "output_type": "execute_result"
    }
   ],
   "source": [
    "countdown.__annotations__"
   ]
  },
  {
   "cell_type": "markdown",
   "metadata": {},
   "source": [
    "可以看到，使用 functools的 wraps 装饰器，可以保留装饰器函数中的 meta 信息。"
   ]
  },
  {
   "cell_type": "code",
   "execution_count": 55,
   "metadata": {
    "collapsed": false
   },
   "outputs": [
    {
     "name": "stdout",
     "output_type": "stream",
     "text": [
      "done\n"
     ]
    }
   ],
   "source": [
    "countdown.__wrapped__(1000000)  #直接访问被包装函数"
   ]
  },
  {
   "cell_type": "code",
   "execution_count": null,
   "metadata": {
    "collapsed": true
   },
   "outputs": [],
   "source": []
  },
  {
   "cell_type": "code",
   "execution_count": null,
   "metadata": {
    "collapsed": true
   },
   "outputs": [],
   "source": []
  },
  {
   "cell_type": "code",
   "execution_count": 45,
   "metadata": {
    "collapsed": false
   },
   "outputs": [
    {
     "name": "stdout",
     "output_type": "stream",
     "text": [
      "fib 9.5367431640625e-07\n",
      "fib 7.152557373046875e-07\n",
      "fib 0.0006048679351806641\n",
      "fib 0.0010538101196289062\n",
      "fib 0.0013806819915771484\n",
      "fib 0.0014410018920898438\n",
      "fib 0.0014939308166503906\n",
      "fib 0.0015439987182617188\n",
      "fib 0.0015947818756103516\n",
      "fib 0.001631021499633789\n",
      "fib 0.0016620159149169922\n",
      "fib 0.0016970634460449219\n",
      "fib 0.0017719268798828125\n",
      "fib 0.0018112659454345703\n",
      "fib 0.0018470287322998047\n",
      "fib 0.0018832683563232422\n",
      "fib 0.0019180774688720703\n",
      "fib 0.0026938915252685547\n",
      "fib 0.0027709007263183594\n",
      "fib 0.002835988998413086\n",
      "fib 0.0028989315032958984\n",
      "fib 0.0029609203338623047\n",
      "fib 0.0030269622802734375\n",
      "fib 0.003087282180786133\n",
      "fib 0.0031502246856689453\n",
      "fib 0.004269123077392578\n",
      "fib 0.004378080368041992\n",
      "fib 0.004435062408447266\n",
      "fib 0.0044901371002197266\n",
      "fib 0.004547119140625\n",
      "fib 0.004600048065185547\n",
      "fib 0.004654884338378906\n",
      "fib 0.004726886749267578\n",
      "fib 0.004773855209350586\n",
      "fib 0.004832029342651367\n",
      "fib 0.004892826080322266\n",
      "fib 0.0049326419830322266\n",
      "fib 0.004973173141479492\n",
      "fib 0.005011081695556641\n",
      "fib 0.005050182342529297\n",
      "fib 0.005089998245239258\n",
      "fib 0.005129098892211914\n",
      "fib 0.0051839351654052734\n",
      "fib 0.005270957946777344\n",
      "fib 0.005326747894287109\n",
      "fib 0.00538182258605957\n",
      "fib 0.0054378509521484375\n",
      "fib 0.005517005920410156\n",
      "fib 0.0055730342864990234\n",
      "fib 0.0056269168853759766\n",
      "fib 0.005682945251464844\n",
      "fib 0.005738019943237305\n",
      "fib 0.005793094635009766\n",
      "fib 0.0058481693267822266\n",
      "fib 0.005903005599975586\n",
      "fib 0.005956888198852539\n"
     ]
    },
    {
     "data": {
      "text/plain": [
       "139583862445"
      ]
     },
     "execution_count": 45,
     "metadata": {},
     "output_type": "execute_result"
    }
   ],
   "source": [
    "def memo(func):\n",
    "    \"\"\"\n",
    "    remember\n",
    "    \"\"\"\n",
    "    d = dict()\n",
    "    def wrapper(x):\n",
    "        if x not in d:            \n",
    "            d[x] = func(x)\n",
    "        return d[x]\n",
    "    return wrapper\n",
    "\n",
    "@memo\n",
    "@timethis\n",
    "def fib(n):\n",
    "    if n == 0:\n",
    "        return 0\n",
    "    elif n == 1:\n",
    "        return 1\n",
    "    else:\n",
    "        return fib(n-1) + fib(n-2)\n",
    "\n",
    "fib(55)"
   ]
  },
  {
   "cell_type": "code",
   "execution_count": 48,
   "metadata": {
    "collapsed": false
   },
   "outputs": [
    {
     "name": "stdout",
     "output_type": "stream",
     "text": [
      "wrapper 9.5367431640625e-07\n"
     ]
    },
    {
     "data": {
      "text/plain": [
       "139583862445"
      ]
     },
     "execution_count": 48,
     "metadata": {},
     "output_type": "execute_result"
    }
   ],
   "source": [
    "memo(timethis(fib))(55)"
   ]
  },
  {
   "cell_type": "markdown",
   "metadata": {},
   "source": [
    "如果想要给装饰器传递参数，丰富装饰器的行为："
   ]
  },
  {
   "cell_type": "code",
   "execution_count": 35,
   "metadata": {
    "collapsed": false
   },
   "outputs": [
    {
     "data": {
      "text/plain": [
       "7"
      ]
     },
     "execution_count": 35,
     "metadata": {},
     "output_type": "execute_result"
    }
   ],
   "source": [
    "from functools import wraps\n",
    "import logging\n",
    "\n",
    "def logged(level, name=None, message=None):\n",
    "    \"\"\"\n",
    "    Add logging to a function. level is the logging\n",
    "    level, name is the logger name, and message is the\n",
    "    log message. If name and message aren't specified,\n",
    "    they default to the function's module and name.\n",
    "    \"\"\"\n",
    "    def decorate(func):\n",
    "        logname = name if name else func.__module__\n",
    "        log = logging.getLogger(logname)\n",
    "        logmsg = message if message else func.__name__\n",
    "\n",
    "        @wraps(func)\n",
    "        def wrapper(*args, **kwargs):\n",
    "            log.log(level, logmsg)\n",
    "            return func(*args, **kwargs)\n",
    "        return wrapper\n",
    "    return decorate\n",
    "\n",
    "# Example use\n",
    "@logged(logging.DEBUG)\n",
    "def add(x, y):\n",
    "    return x + y\n",
    "\n",
    "@logged(logging.CRITICAL, 'example')\n",
    "def spam():\n",
    "    print('Spam!!!')    \n",
    "    \n",
    "add(3,4)\n"
   ]
  },
  {
   "cell_type": "code",
   "execution_count": 32,
   "metadata": {
    "collapsed": false
   },
   "outputs": [
    {
     "name": "stdout",
     "output_type": "stream",
     "text": [
      "Spam!!!\n"
     ]
    }
   ],
   "source": [
    "spam()"
   ]
  },
  {
   "cell_type": "code",
   "execution_count": 36,
   "metadata": {
    "collapsed": false
   },
   "outputs": [
    {
     "name": "stdout",
     "output_type": "stream",
     "text": [
      "happy happy\n"
     ]
    }
   ],
   "source": [
    "foo()"
   ]
  },
  {
   "cell_type": "markdown",
   "metadata": {},
   "source": [
    "#### 协助调试"
   ]
  },
  {
   "cell_type": "code",
   "execution_count": 16,
   "metadata": {
    "collapsed": true
   },
   "outputs": [],
   "source": [
    "from functools import wraps\n",
    "\n",
    "def optional_debug(func):\n",
    "    @wraps(func)\n",
    "    def wrapper(*args, debug=False, **kwargs):\n",
    "        if debug:\n",
    "            print('Calling', func.__name__)\n",
    "        return func(*args, **kwargs)\n",
    "\n",
    "    return wrapper"
   ]
  },
  {
   "cell_type": "code",
   "execution_count": 20,
   "metadata": {
    "collapsed": false
   },
   "outputs": [
    {
     "name": "stdout",
     "output_type": "stream",
     "text": [
      "3 4 5\n"
     ]
    }
   ],
   "source": [
    "@optional_debug\n",
    "def spam(a,b,c):\n",
    "    print(a, b, c)\n",
    "\n",
    "spam(3,4,5)\n"
   ]
  },
  {
   "cell_type": "code",
   "execution_count": 21,
   "metadata": {
    "collapsed": false
   },
   "outputs": [
    {
     "name": "stdout",
     "output_type": "stream",
     "text": [
      "Calling spam\n",
      "3 4 5\n"
     ]
    }
   ],
   "source": [
    "spam(3,4,5,debug=True)"
   ]
  },
  {
   "cell_type": "code",
   "execution_count": null,
   "metadata": {
    "collapsed": true
   },
   "outputs": [],
   "source": []
  },
  {
   "cell_type": "markdown",
   "metadata": {},
   "source": [
    "由此可见，很多们在使用 web 框架的时候，看到的各种各样的装饰器语法，都是可以实现的："
   ]
  },
  {
   "cell_type": "code",
   "execution_count": 17,
   "metadata": {
    "collapsed": false
   },
   "outputs": [
    {
     "data": {
      "text/plain": [
       "\"<b class='bold_css'><i class='italic_css'>hello world</i></b>\""
      ]
     },
     "execution_count": 17,
     "metadata": {},
     "output_type": "execute_result"
    }
   ],
   "source": [
    "def makeHtmlTag(tag, *args, **kwds):\n",
    "    def real_decorator(fn):\n",
    "        css_class = \" class='{0}'\".format(kwds[\"css_class\"]) \\\n",
    "                                     if \"css_class\" in kwds else \"\"\n",
    "        def wrapped(*args, **kwds):\n",
    "            return \"<\"+tag+css_class+\">\" + fn(*args, **kwds) + \"</\"+tag+\">\"\n",
    "        return wrapped\n",
    "    return real_decorator\n",
    " \n",
    "@makeHtmlTag(tag=\"b\", css_class=\"bold_css\")\n",
    "@makeHtmlTag(tag=\"i\", css_class=\"italic_css\")\n",
    "def hello():\n",
    "    return \"hello world\"\n",
    " \n",
    "hello()\n",
    " \n",
    "# 输出：\n",
    "# <b class='bold_css'><i class='italic_css'>hello world</i></b>"
   ]
  },
  {
   "cell_type": "code",
   "execution_count": null,
   "metadata": {
    "collapsed": true
   },
   "outputs": [],
   "source": []
  },
  {
   "cell_type": "code",
   "execution_count": 14,
   "metadata": {
    "collapsed": true
   },
   "outputs": [],
   "source": [
    "class MyApp():\n",
    "    def __init__(self):\n",
    "        self.func_map = {}\n",
    " \n",
    "    def register(self, name):\n",
    "        def func_wrapper(func):\n",
    "            self.func_map[name] = func\n",
    "            return func\n",
    "        return func_wrapper\n",
    " \n",
    "    def call_method(self, name=None):\n",
    "        func = self.func_map.get(name, None)\n",
    "        if func is None:\n",
    "            raise Exception(\"No function registered against - \" + str(name))\n",
    "        return func()\n",
    " \n",
    "app = MyApp()\n",
    " \n",
    "@app.register('/')\n",
    "def main_page_func():\n",
    "    return \"This is the main page.\"\n",
    " \n",
    "@app.register('/next_page')\n",
    "def next_page_func():\n",
    "    return \"This is the next page.\""
   ]
  },
  {
   "cell_type": "code",
   "execution_count": null,
   "metadata": {
    "collapsed": true
   },
   "outputs": [],
   "source": []
  },
  {
   "cell_type": "code",
   "execution_count": null,
   "metadata": {
    "collapsed": true
   },
   "outputs": [],
   "source": []
  },
  {
   "cell_type": "code",
   "execution_count": null,
   "metadata": {
    "collapsed": true
   },
   "outputs": [],
   "source": []
  },
  {
   "cell_type": "code",
   "execution_count": null,
   "metadata": {
    "collapsed": true
   },
   "outputs": [],
   "source": []
  },
  {
   "cell_type": "markdown",
   "metadata": {},
   "source": [
    "至此，可以得到两种装饰器的模板，不是太复杂的装饰器都可以直接套用："
   ]
  },
  {
   "cell_type": "code",
   "execution_count": 1,
   "metadata": {
    "collapsed": true
   },
   "outputs": [],
   "source": [
    "def decorator(func):\n",
    "    @wraps(func)\n",
    "    def wrapper(*args, **kwargs):\n",
    "\n",
    "        # 逻辑 \n",
    "            \n",
    "        return func(*args, **kwargs)\n",
    "    return wrapper\n"
   ]
  },
  {
   "cell_type": "code",
   "execution_count": 3,
   "metadata": {
    "collapsed": true
   },
   "outputs": [],
   "source": [
    "def myDecorator(...):　　　　#定义装饰器，可能带参数\n",
    "     def decorator(func):    #装饰器核心，以被装饰的函数对象为参数，返回装饰后的函数对象\n",
    "         def wrapper(*args, **kwargs):    #装饰的过程，参数列表适应不同参数的函数\n",
    "             ...    #修改函数调用前的行为\n",
    "             func(*args, **kvargs)    #调用函数\n",
    "             ...    #修改函数调用后的行为\n",
    "         return wrapper\n",
    "     return decorator\n",
    " \n",
    "@myDecorator(...):　　　　#给函数加上装饰器\n",
    "def myFunc(...):　　　　  #自己定义的功能函数\n",
    "    ..."
   ]
  },
  {
   "cell_type": "code",
   "execution_count": null,
   "metadata": {
    "collapsed": true
   },
   "outputs": [],
   "source": []
  },
  {
   "cell_type": "code",
   "execution_count": null,
   "metadata": {
    "collapsed": true
   },
   "outputs": [],
   "source": []
  },
  {
   "cell_type": "code",
   "execution_count": null,
   "metadata": {
    "collapsed": true
   },
   "outputs": [],
   "source": []
  },
  {
   "cell_type": "markdown",
   "metadata": {},
   "source": [
    "## 系统自带的装饰器"
   ]
  },
  {
   "cell_type": "code",
   "execution_count": 4,
   "metadata": {
    "collapsed": false
   },
   "outputs": [
    {
     "data": {
      "text/plain": [
       "139583862445"
      ]
     },
     "execution_count": 4,
     "metadata": {},
     "output_type": "execute_result"
    }
   ],
   "source": [
    "from functools import lru_cache\n",
    "\n",
    "@lru_cache(maxsize=32)\n",
    "def fib(n):\n",
    "    if n == 0:\n",
    "        return 0\n",
    "    elif n == 1:\n",
    "        return 1\n",
    "    else:\n",
    "        return fib(n-1) + fib(n-2)\n",
    "    \n",
    "fib(55)"
   ]
  },
  {
   "cell_type": "code",
   "execution_count": 6,
   "metadata": {
    "collapsed": false
   },
   "outputs": [
    {
     "name": "stdout",
     "output_type": "stream",
     "text": [
      "Normal:\n",
      "  entering\n",
      "  inside with statement: {}\n",
      "  exiting\n",
      "\n",
      "Handled error:\n",
      "  entering\n",
      "  ERROR: showing example of handling an error\n",
      "  exiting\n",
      "\n",
      "Unhandled error:\n",
      "  entering\n",
      "  exiting\n"
     ]
    },
    {
     "ename": "ValueError",
     "evalue": "this exception is not handled",
     "output_type": "error",
     "traceback": [
      "\u001b[0;31m---------------------------------------------------------------------------\u001b[0m",
      "\u001b[0;31mValueError\u001b[0m                                Traceback (most recent call last)",
      "\u001b[0;32m<ipython-input-6-0a5d90d90d34>\u001b[0m in \u001b[0;36m<module>\u001b[0;34m()\u001b[0m\n\u001b[1;32m     21\u001b[0m \u001b[0mprint\u001b[0m\u001b[0;34m(\u001b[0m\u001b[0;34m'\\nUnhandled error:'\u001b[0m\u001b[0;34m)\u001b[0m\u001b[0;34m\u001b[0m\u001b[0m\n\u001b[1;32m     22\u001b[0m \u001b[0;32mwith\u001b[0m \u001b[0mmake_context\u001b[0m\u001b[0;34m(\u001b[0m\u001b[0;34m)\u001b[0m \u001b[0;32mas\u001b[0m \u001b[0mvalue\u001b[0m\u001b[0;34m:\u001b[0m\u001b[0;34m\u001b[0m\u001b[0m\n\u001b[0;32m---> 23\u001b[0;31m     \u001b[0;32mraise\u001b[0m \u001b[0mValueError\u001b[0m\u001b[0;34m(\u001b[0m\u001b[0;34m'this exception is not handled'\u001b[0m\u001b[0;34m)\u001b[0m\u001b[0;34m\u001b[0m\u001b[0m\n\u001b[0m",
      "\u001b[0;31mValueError\u001b[0m: this exception is not handled"
     ]
    }
   ],
   "source": [
    "from contextlib import contextmanager\n",
    "\n",
    "@contextmanager\n",
    "def make_context():\n",
    "    print('  entering')\n",
    "    try:\n",
    "        yield {}\n",
    "    except RuntimeError as err:\n",
    "        print('  ERROR:', err)\n",
    "    finally:\n",
    "        print('  exiting')\n",
    "\n",
    "print('Normal:')\n",
    "with make_context() as value:\n",
    "    print('  inside with statement:', value)\n",
    "\n",
    "print('\\nHandled error:')\n",
    "with make_context() as value:\n",
    "    raise RuntimeError('showing example of handling an error')\n",
    "\n",
    "print('\\nUnhandled error:')\n",
    "with make_context() as value:\n",
    "    raise ValueError('this exception is not handled')"
   ]
  },
  {
   "cell_type": "code",
   "execution_count": 8,
   "metadata": {
    "collapsed": false
   },
   "outputs": [
    {
     "name": "stdout",
     "output_type": "stream",
     "text": [
      "default myfunc('string argument')\n",
      "myfunc_int(1)\n",
      "default myfunc(2.3)\n",
      "myfunc_list()\n",
      "  a\n",
      "  b\n",
      "  c\n"
     ]
    }
   ],
   "source": [
    "from functools import singledispatch\n",
    "\n",
    "\n",
    "@singledispatch\n",
    "def myfunc(arg):\n",
    "    print('default myfunc({!r})'.format(arg))\n",
    "\n",
    "\n",
    "@myfunc.register(int)\n",
    "def myfunc_int(arg):\n",
    "    print('myfunc_int({})'.format(arg))\n",
    "\n",
    "\n",
    "@myfunc.register(list)\n",
    "def myfunc_list(arg):\n",
    "    print('myfunc_list()')\n",
    "    for item in arg:\n",
    "        print('  {}'.format(item))\n",
    "\n",
    "myfunc('string argument')\n",
    "myfunc(1)\n",
    "myfunc(2.3)\n",
    "myfunc(['a', 'b', 'c'])"
   ]
  },
  {
   "cell_type": "code",
   "execution_count": null,
   "metadata": {
    "collapsed": true
   },
   "outputs": [],
   "source": []
  },
  {
   "cell_type": "markdown",
   "metadata": {},
   "source": [
    "参考文档：\n",
    "\n",
    "[python decorator library](https://wiki.python.org/moin/PythonDecoratorLibrary)\n",
    "\n",
    "[python cookbook](https://python3-cookbook.readthedocs.io/zh_CN/latest/)\n",
    "\n",
    "[coolshell](https://coolshell.cn/articles/11265.html)\n",
    "\n",
    "[流畅的 Python]\n"
   ]
  },
  {
   "cell_type": "code",
   "execution_count": null,
   "metadata": {
    "collapsed": true
   },
   "outputs": [],
   "source": []
  },
  {
   "cell_type": "code",
   "execution_count": null,
   "metadata": {
    "collapsed": true
   },
   "outputs": [],
   "source": []
  },
  {
   "cell_type": "code",
   "execution_count": null,
   "metadata": {
    "collapsed": true
   },
   "outputs": [],
   "source": []
  },
  {
   "cell_type": "code",
   "execution_count": null,
   "metadata": {
    "collapsed": true
   },
   "outputs": [],
   "source": []
  },
  {
   "cell_type": "code",
   "execution_count": null,
   "metadata": {
    "collapsed": true
   },
   "outputs": [],
   "source": []
  },
  {
   "cell_type": "code",
   "execution_count": null,
   "metadata": {
    "collapsed": true
   },
   "outputs": [],
   "source": []
  },
  {
   "cell_type": "code",
   "execution_count": null,
   "metadata": {
    "collapsed": true
   },
   "outputs": [],
   "source": []
  },
  {
   "cell_type": "code",
   "execution_count": null,
   "metadata": {
    "collapsed": true
   },
   "outputs": [],
   "source": []
  },
  {
   "cell_type": "code",
   "execution_count": null,
   "metadata": {
    "collapsed": true
   },
   "outputs": [],
   "source": []
  }
 ],
 "metadata": {
  "anaconda-cloud": {},
  "kernelspec": {
   "display_name": "Python [default]",
   "language": "python",
   "name": "python3"
  },
  "language_info": {
   "codemirror_mode": {
    "name": "ipython",
    "version": 3
   },
   "file_extension": ".py",
   "mimetype": "text/x-python",
   "name": "python",
   "nbconvert_exporter": "python",
   "pygments_lexer": "ipython3",
   "version": "3.5.5"
  }
 },
 "nbformat": 4,
 "nbformat_minor": 2
}
