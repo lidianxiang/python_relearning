{
 "cells": [
  {
   "cell_type": "markdown",
   "metadata": {},
   "source": [
    "### 文件和异常"
   ]
  },
  {
   "cell_type": "markdown",
   "metadata": {},
   "source": [
    "#### 在实际开发中，常常需要对程序中的数据进行持久化操作，而实现数据持久化最直接简单的方式就是将数据保存到文件中。在python中实现文件的读写其实非常简单，通过对python内置的open函数我们可以指定文件名、操作模式、编码信息等来获得操作文件的对象，接下来就可以对文件进行读写操作了。"
   ]
  },
  {
   "cell_type": "raw",
   "metadata": {},
   "source": [
    "'r' ---- 读取\n",
    "'w' ---- 写入\n",
    "'x' ---- 写入（如果文件存在会报错）\n",
    "'a' ---- 追加。将内容写入到已有的文件的末尾\n",
    "'b' ---- 二进制模式\n",
    "'t' ---- 文本模式\n",
    "'+' ---- 更新（既可以写又可以读）"
   ]
  },
  {
   "cell_type": "markdown",
   "metadata": {},
   "source": [
    "### 读写文本文件"
   ]
  },
  {
   "cell_type": "markdown",
   "metadata": {},
   "source": [
    "#### 读取文本文件时，需要在使用open函数时指定好带路径的文件名（可以使用相对路径或绝对路径）并将文件模式设置为'r'（如果不指定，默认值也是'r'），然后通过encoding参数指定编码（如果不指定，默认值是None，那么在读取文件时使用的是操作系统默认的编码），如果不能保证保存文件时使用的编码方式与encoding参数指定的编码方式是一致的，那么就可能因无法解码字符而导致读取失败。下面的例子演示了如何读取一个纯文本文件。"
   ]
  },
  {
   "cell_type": "code",
   "execution_count": 3,
   "metadata": {
    "collapsed": false
   },
   "outputs": [
    {
     "name": "stdout",
     "output_type": "stream",
     "text": [
      "我如果爱你\n",
      "绝不学攀援的凌霄花\n",
      "借你的高枝炫耀自己\n",
      "\n",
      "我如果爱你\n",
      "绝不学痴情的鸟儿\n",
      "为绿荫重复单调的歌曲\n",
      "\n"
     ]
    }
   ],
   "source": [
    "def main():\n",
    "    f = open('致橡树.txt','r',encoding='utf-8')\n",
    "    print(f.read())\n",
    "    f.close()\n",
    "    \n",
    "if __name__ == \"__main__\":\n",
    "    main()"
   ]
  },
  {
   "cell_type": "raw",
   "metadata": {},
   "source": [
    "# 请注意上面的代码，如果open函数指定的文件并不存在或者无法打开，那么将引发异常状况导致程序崩溃。为了让代码有一定的健壮性和容错性，我们可以使用Python的异常机制对可能在运行时发生状况的代码进行适当的处理，如下所示。"
   ]
  },
  {
   "cell_type": "code",
   "execution_count": 7,
   "metadata": {
    "collapsed": false
   },
   "outputs": [
    {
     "name": "stdout",
     "output_type": "stream",
     "text": [
      "我如果爱你\n",
      "绝不学攀援的凌霄花\n",
      "借你的高枝炫耀自己\n",
      "\n",
      "我如果爱你\n",
      "绝不学痴情的鸟儿\n",
      "为绿荫重复单调的歌曲\n",
      "\n"
     ]
    }
   ],
   "source": [
    "def main():\n",
    "    f = None\n",
    "    try:\n",
    "        f = open('致橡树.txt','r',encoding='utf-8')\n",
    "        print(f.read())\n",
    "    except FileNotFoundError:\n",
    "        print('无法打开指定文件')\n",
    "    except LookupError:\n",
    "        print('指定了未知的编码')\n",
    "    except UnicodeDecodeError:\n",
    "        print('读取文件时解码错误！')\n",
    "    finally:\n",
    "        if f:\n",
    "            f.close()\n",
    "            \n",
    "if __name__ == \"__main__\":\n",
    "    main()"
   ]
  },
  {
   "cell_type": "markdown",
   "metadata": {},
   "source": [
    "#### 在Python中，我们可以将那些在运行时可能会出现状况的代码放在try代码块中，在try代码块的后面可以跟上一个或多个except来捕获可能出现的异常状况。例如在上面读取文件的过程中，文件找不到会引发FileNotFoundError，指定了未知的编码会引发LookupError，而如果读取文件时无法按指定方式解码会引发UnicodeDecodeError，我们在try后面跟上了三个except分别处理这三种不同的异常状况。最后我们使用finally代码块来关闭打开的文件，释放掉程序中获取的外部资源，由于finally块的代码不论程序正常还是异常都会执行到（甚至是调用了sys模块的exit函数退出Python环境，finally块都会被执行，因为exit函数实质上是引发了SystemExit异常），因此我们通常把finally块称为“总是执行代码块”，它最适合用来做释放外部资源的操作。如果不愿意在finally代码块中关闭文件对象释放资源，也可以使用上下文语法，通过with关键字指定文件对象的上下文环境并在离开上下文环境时自动释放文件资源，代码如下所示。"
   ]
  },
  {
   "cell_type": "code",
   "execution_count": 10,
   "metadata": {
    "collapsed": false
   },
   "outputs": [
    {
     "name": "stdout",
     "output_type": "stream",
     "text": [
      "我如果爱你\n",
      "绝不学攀援的凌霄花\n",
      "借你的高枝炫耀自己\n",
      "\n",
      "我如果爱你\n",
      "绝不学痴情的鸟儿\n",
      "为绿荫重复单调的歌曲\n",
      "\n"
     ]
    }
   ],
   "source": [
    "def main():\n",
    "    try:\n",
    "        with open('致橡树.txt','r',encoding='utf-8') as f:\n",
    "            print(f.read())\n",
    "    except FileNotFoundError:\n",
    "        print('无法打开指定的文件')\n",
    "    except LookupError:\n",
    "        print('指定了未知的编码')\n",
    "    except UnicodeDecodeError:\n",
    "        print('读取文件时解码错误！')\n",
    "        \n",
    "if __name__ == \"__main__\":\n",
    "    main()"
   ]
  },
  {
   "cell_type": "markdown",
   "metadata": {},
   "source": [
    "#### 除了使用文件对象的read方法读取文件之外，还可以使用for-in循环逐行读取或者用readlines方法将文件按行读取到一个列表容器中，代码如下所示。"
   ]
  },
  {
   "cell_type": "code",
   "execution_count": 15,
   "metadata": {
    "collapsed": false
   },
   "outputs": [
    {
     "name": "stdout",
     "output_type": "stream",
     "text": [
      "我如果爱你\n",
      "绝不学攀援的凌霄花\n",
      "借你的高枝炫耀自己\n",
      "\n",
      "我如果爱你\n",
      "绝不学痴情的鸟儿\n",
      "为绿荫重复单调的歌曲\n",
      "\n",
      "我如果爱你\n",
      "绝不学攀援的凌霄花\n",
      "借你的高枝炫耀自己\n",
      "\n",
      "我如果爱你\n",
      "绝不学痴情的鸟儿\n",
      "为绿荫重复单调的歌曲\n",
      "\n",
      "['我如果爱你\\n', '绝不学攀援的凌霄花\\n', '借你的高枝炫耀自己\\n', '\\n', '我如果爱你\\n', '绝不学痴情的鸟儿\\n', '为绿荫重复单调的歌曲\\n']\n"
     ]
    }
   ],
   "source": [
    "import time\n",
    "\n",
    "def main():\n",
    "#     一次性读取整个文件内容\n",
    "    with open('致橡树.txt','r',encoding='utf-8') as f:\n",
    "        print(f.read())\n",
    "        \n",
    "#     通过for-in循环逐行读取\n",
    "    with open('致橡树.txt','r',encoding='utf-8') as f:\n",
    "        for line in f:\n",
    "            print(line,end='')\n",
    "            time.sleep(0.5)\n",
    "    print()\n",
    "    \n",
    "    #读取文件按行读取到列表中\n",
    "    with open('致橡树.txt','r',encoding='utf-8') as f:\n",
    "        lines = f.readlines()\n",
    "    print(lines)\n",
    "    \n",
    "if __name__ == \"__main__\":\n",
    "    main()"
   ]
  },
  {
   "cell_type": "markdown",
   "metadata": {},
   "source": [
    "### 写入文件"
   ]
  },
  {
   "cell_type": "code",
   "execution_count": 19,
   "metadata": {
    "collapsed": false
   },
   "outputs": [
    {
     "name": "stdout",
     "output_type": "stream",
     "text": [
      "操作完成\n"
     ]
    }
   ],
   "source": [
    "from math import sqrt\n",
    "\n",
    "def is_prime(n):\n",
    "    \"\"\"判断素数的函数\"\"\"\n",
    "    assert n > 0\n",
    "    for factor in range(2,int(sqrt(n)) + 1):\n",
    "        if n % factor == 0:\n",
    "            return False\n",
    "    return True if n!= 1 else False\n",
    "\n",
    "def main():\n",
    "    filenames = ('a.txt','b.txt','c.txt')\n",
    "    fs_list = []\n",
    "    try:\n",
    "        for filename in filenames:\n",
    "            fs_list.append(open(filename,'w',encoding='utf-8'))\n",
    "        for number in range(1,10000):\n",
    "            if is_prime(number):\n",
    "                if number <100:\n",
    "                    fs_list[0].write(str(number) + '\\n')\n",
    "#                     print(number)\n",
    "                elif number < 1000:\n",
    "                    fs_list[1].write(str(number) + '\\n')\n",
    "#                     print(number)\n",
    "                else:\n",
    "                    fs_list[2].write(str(number) + '\\n')\n",
    "#                     print(number)\n",
    "    except IOError as ex:\n",
    "        print(ex)\n",
    "        print('写入文件时发生错误')\n",
    "    finally:\n",
    "        for fs in fs_list:\n",
    "            fs.close()\n",
    "    print('操作完成')\n",
    "    \n",
    "if __name__ == \"__main__\":\n",
    "    main()"
   ]
  },
  {
   "cell_type": "markdown",
   "metadata": {},
   "source": [
    "### 读写二进制文件"
   ]
  },
  {
   "cell_type": "markdown",
   "metadata": {},
   "source": [
    "#### 知道了如何读写文本文件要读写二进制文件也就变得很简单了，下面的代码实现了复制图片文件的功能。"
   ]
  },
  {
   "cell_type": "code",
   "execution_count": 20,
   "metadata": {
    "collapsed": false
   },
   "outputs": [
    {
     "name": "stdout",
     "output_type": "stream",
     "text": [
      "<class 'bytes'>\n",
      "程序执行结束\n"
     ]
    }
   ],
   "source": [
    "def main():\n",
    "    try:\n",
    "        with open('mm.jpg','rb') as fs1:\n",
    "            data = fs1.read()\n",
    "            print(type(data))  # <class 'bytes>\n",
    "        with open('美女.jpg','wb') as fs2:\n",
    "            fs2.write(data)\n",
    "    except FileNotFoundError:\n",
    "        print('指定的文件无法打开')\n",
    "    except IOError:\n",
    "        print('读写文件时出现错误')\n",
    "    print('程序执行结束')\n",
    "    \n",
    "if __name__ == \"__main__\":\n",
    "    main()"
   ]
  },
  {
   "cell_type": "markdown",
   "metadata": {},
   "source": [
    "### 读写JSON文件"
   ]
  },
  {
   "cell_type": "markdown",
   "metadata": {},
   "source": [
    "#### 通过上面的讲解，我们已经知道如何将文本数据和二进制数据保存到文件中，那么这里还有一个问题，如果希望把一个列表或者一个字典中的数据保存到文件中又该怎么做呢？答案是将数据以JSON格式进行保存。JSON是“JavaScript Object Notation”的缩写，它本来是JavaScript语言中创建对象的一种字面量语法，现在已经被广泛的应用于跨平台跨语言的数据交换，原因很简单，因为JSON也是纯文本，任何系统任何编程语言处理纯文本都是没有问题的。目前JSON基本上已经取代了XML作为异构系统间交换数据的事实标准。关于JSON的知识，更多的可以参考JSON的官方网站，从这个网站也可以了解到每种语言处理JSON数据格式可以使用的工具或三方库，下面是一个JSON的简单例子。"
   ]
  },
  {
   "cell_type": "code",
   "execution_count": 22,
   "metadata": {
    "collapsed": false
   },
   "outputs": [
    {
     "data": {
      "text/plain": [
       "{'age': 25,\n",
       " 'cars': [{'brand': 'BYD', 'max_speed': 180},\n",
       "  {'brand': 'Audi', 'max_speed': 220},\n",
       "  {'brand': 'BMW', 'max_speed': 220}],\n",
       " 'friend': ['Steph', 'Klay'],\n",
       " 'name': 'Kevin',\n",
       " 'qq': 123456}"
      ]
     },
     "execution_count": 22,
     "metadata": {},
     "output_type": "execute_result"
    }
   ],
   "source": [
    "{\n",
    "    'name':'Kevin',\n",
    "    'age':25,\n",
    "    'qq':123456,\n",
    "    'friend':['Steph','Klay'],\n",
    "    'cars':[\n",
    "        {'brand':'BYD','max_speed':180},\n",
    "        {'brand':'Audi','max_speed':220},\n",
    "        {'brand':'BMW','max_speed':220}\n",
    "    ]\n",
    "}"
   ]
  },
  {
   "cell_type": "code",
   "execution_count": 25,
   "metadata": {
    "collapsed": false
   },
   "outputs": [
    {
     "name": "stdout",
     "output_type": "stream",
     "text": [
      "保存数据完成！\n"
     ]
    }
   ],
   "source": [
    "# 我们使用Python中的json模块就可以将字典或列表以JSON格式保存到文件中，代码如下所示。\n",
    "import json\n",
    "\n",
    "def main():\n",
    "    mydict = {\n",
    "        'name':'Kevin',\n",
    "        'age':25,\n",
    "        'qq':123456,\n",
    "        'friend':['Steph','Klay'],\n",
    "        'cars':[\n",
    "            {'brand':'BYD','max_speed':180},\n",
    "            {'brand':'Audi','max_speed':220},\n",
    "            {'brand':'BMW','maw_speed':220}\n",
    "        ]\n",
    "    }\n",
    "    try:\n",
    "        with open('data.json','w',encoding='utf-8') as fs:\n",
    "            json.dump(mydict,fs)\n",
    "    except IOError as e:\n",
    "        print(e)\n",
    "    print('保存数据完成！')\n",
    "        \n",
    "if __name__ == \"__main__\":\n",
    "    main()"
   ]
  },
  {
   "cell_type": "markdown",
   "metadata": {},
   "source": [
    "#### json模块主要有四个比较重要的函数，分别是：\n",
    "\n",
    "#### dump - 将Python对象按照JSON格式序列化到文件中\n",
    "#### dumps - 将Python对象处理成JSON格式的字符串\n",
    "#### load - 将文件中的JSON数据反序列化成对象\n",
    "#### loads - 将字符串的内容反序列化成Python对象"
   ]
  },
  {
   "cell_type": "markdown",
   "metadata": {},
   "source": [
    "#### 这里出现了两个概念，一个叫序列化，一个叫反序列化。自由的百科全书维基百科上对这两个概念是这样解释的：“序列化（serialization）在计算机科学的数据处理中，是指将数据结构或对象状态转换为可以存储或传输的形式，这样在需要的时候能够恢复到原先的状态，而且通过序列化的数据重新获取字节时，可以利用这些字节来产生原始对象的副本（拷贝）。与这个过程相反的动作，即从一系列字节中提取数据结构的操作，就是反序列化（deserialization）”。"
   ]
  },
  {
   "cell_type": "code",
   "execution_count": 1,
   "metadata": {
    "collapsed": false
   },
   "outputs": [],
   "source": [
    "# import requests\n",
    "# import json\n",
    "\n",
    "# def main():\n",
    "#     resp = requests.get('https://api.tianapi.com/weixin/?key=76a3c06d93f80ec6571f1d901d53d904')\n",
    "#     data_model = json.loads(resp.text)\n",
    "#     for news in data_model['newslist']:\n",
    "#         print(news['title'])\n",
    "\n",
    "\n",
    "# if __name__ == \"__main__\":\n",
    "#     main()"
   ]
  },
  {
   "cell_type": "code",
   "execution_count": null,
   "metadata": {
    "collapsed": true
   },
   "outputs": [],
   "source": []
  }
 ],
 "metadata": {
  "anaconda-cloud": {},
  "kernelspec": {
   "display_name": "Python [default]",
   "language": "python",
   "name": "python3"
  },
  "language_info": {
   "codemirror_mode": {
    "name": "ipython",
    "version": 3
   },
   "file_extension": ".py",
   "mimetype": "text/x-python",
   "name": "python",
   "nbconvert_exporter": "python",
   "pygments_lexer": "ipython3",
   "version": "3.5.5"
  }
 },
 "nbformat": 4,
 "nbformat_minor": 1
}
