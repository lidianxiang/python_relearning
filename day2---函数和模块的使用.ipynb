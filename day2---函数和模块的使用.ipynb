{
 "cells": [
  {
   "cell_type": "markdown",
   "metadata": {},
   "source": [
    "### 函数的作用"
   ]
  },
  {
   "cell_type": "raw",
   "metadata": {},
   "source": [
    "编程大师Martin Fowler先生曾经说过：“代码有很多种坏味道，重复是最坏的一种！”要写出高质量的代码首先要解决的就是重复代码的问题。"
   ]
  },
  {
   "cell_type": "markdown",
   "metadata": {},
   "source": [
    "### 定义函数"
   ]
  },
  {
   "cell_type": "raw",
   "metadata": {},
   "source": [
    "在python中可以使用def关键字来定义函数，和变量一样每个函数也有一个响亮的名字，而且命名规则跟变量的命名规则是一样的，在函数名的圆括号中可以放置传递的参数，这一点和数学上的函数非常相似，程序中函数的参数就相当于是数学上的自变量，而函数执行完成后我们可以通过return关键字来返回一个值，这相当于数学上的函数的因变量。重构的代码如下所示。"
   ]
  },
  {
   "cell_type": "code",
   "execution_count": 1,
   "metadata": {
    "collapsed": false
   },
   "outputs": [
    {
     "name": "stdout",
     "output_type": "stream",
     "text": [
      "m = 5\n",
      "n = 2\n",
      "10\n"
     ]
    }
   ],
   "source": [
    "def factorial(num):\n",
    "    \"\"\"\n",
    "    求阶乘\n",
    "    :param num:非负整数\n",
    "    :return: num的阶乘\n",
    "    \"\"\"\n",
    "    result = 1\n",
    "    for n in range(1,num+1):\n",
    "        result *= n\n",
    "    return result\n",
    "\n",
    "m = int(input('m = '))\n",
    "n = int(input('n = '))\n",
    "#当需要计算阶乘的时候不用再写循环求阶乘而是直接调用已经定义好的函数\n",
    "print(factorial(m) // factorial(n) // factorial(m-n))"
   ]
  },
  {
   "cell_type": "raw",
   "metadata": {},
   "source": [
    "说明：python的math模块中其实已经有一个factorial函数了，事实上要计算阶乘可以直接使用这个现成的函数二不用自己定义，在实际开发中不建议这种低级的重复性的工作。"
   ]
  },
  {
   "cell_type": "markdown",
   "metadata": {},
   "source": [
    "### 函数的参数"
   ]
  },
  {
   "cell_type": "raw",
   "metadata": {},
   "source": [
    "函数是绝大多数编程语言中都支持的一个代码的“构建块”，但是python中的函数与其他语言中的函数还是有很多不太想同的地方，其中一个显著的区别就是python对函数参数的处理。在python中，函数的参数可以有默认值，也可以支持可变参数，所以，python并不需要像其他语言一样支持函数的重载，因为我们在定义一个函数的时候可以让它有很多种不同的使用方式，下面是两个小例子。"
   ]
  },
  {
   "cell_type": "code",
   "execution_count": 4,
   "metadata": {
    "collapsed": false
   },
   "outputs": [
    {
     "name": "stdout",
     "output_type": "stream",
     "text": [
      "7\n",
      "15\n",
      "0\n",
      "1\n",
      "3\n",
      "6\n",
      "350\n"
     ]
    }
   ],
   "source": [
    "from random import randint\n",
    "\n",
    "def roll_dice(n=2):\n",
    "    \"\"\"\n",
    "    摇色子\n",
    "    \n",
    "    :param n :色子的个数\n",
    "    :return : n颗色子点数之和\n",
    "    \"\"\"\n",
    "    total = 0\n",
    "    for _ in range(n):\n",
    "        total += randint(1,6)\n",
    "    return total\n",
    "\n",
    "def add(a=0,b=0,c=0):\n",
    "    return a+b+c\n",
    "\n",
    "#如果没有指定参数那么使用默认值摇两颗色子\n",
    "print(roll_dice())\n",
    "#摇三颗色子\n",
    "print(roll_dice(3))\n",
    "print(add())\n",
    "print(add(1))\n",
    "print(add(1,2))\n",
    "print(add(1,2,3))\n",
    "#传递参数时可以不按照设定的顺序进行传递\n",
    "print(add(c=50,a=100,b=200))"
   ]
  },
  {
   "cell_type": "markdown",
   "metadata": {},
   "source": [
    "我们给上面的两个函数的参数都设定了默认值，这也就意味着如果在调用函数的时候如果没有传入对应的参数将会使用该参数的默认值，所以在上面的代码张我们可以使用不同的方式去调用add函数，这根其他很多语言中的函数的重载的效果是一致的。"
   ]
  },
  {
   "cell_type": "raw",
   "metadata": {},
   "source": [
    "其实上面的add函数还有更好的实现方法，以为我们可能会对0个或是多个参数进行假发运算，而具体有多少个参数是由调用者来决定，我们作为函数的设计者对这一点是一无所知的，因此在不确定参数个数的时候，我们可以使用可变参数，代码如下。"
   ]
  },
  {
   "cell_type": "code",
   "execution_count": 5,
   "metadata": {
    "collapsed": false
   },
   "outputs": [
    {
     "name": "stdout",
     "output_type": "stream",
     "text": [
      "0\n",
      "1\n",
      "3\n",
      "6\n",
      "25\n"
     ]
    }
   ],
   "source": [
    "#在参数前使用*表示args是可变参数\n",
    "#也就是谁调用add函数时传入的参数的个数可以是0个或多个\n",
    "def add(*args):\n",
    "    total = 0\n",
    "    for val in args:\n",
    "        total += val\n",
    "    return total\n",
    "\n",
    "print(add())\n",
    "print(add(1))\n",
    "print(add(1,2))\n",
    "print(add(1,2,3))\n",
    "print(add(1,3,5,7,9))"
   ]
  },
  {
   "cell_type": "markdown",
   "metadata": {},
   "source": [
    "### 用模块管理函数"
   ]
  },
  {
   "cell_type": "raw",
   "metadata": {},
   "source": [
    "对于任何一种编程语言来说，给变量、函数这样的标识符起名字都是一个让人头疼的问题，因为我们会遇到命名其冲突这种尴尬的情况。最简单的场景就是在同一个.py文件中定义了两个同名函数，由于python没有函数重载的概念，那么后面的定义会覆盖之前的定义，也就意味着两个函数同名实际上只有一个是存在的。"
   ]
  },
  {
   "cell_type": "code",
   "execution_count": 6,
   "metadata": {
    "collapsed": false
   },
   "outputs": [
    {
     "name": "stdout",
     "output_type": "stream",
     "text": [
      "goodbye,world!\n"
     ]
    }
   ],
   "source": [
    "def foo():\n",
    "    print('hello,world!')\n",
    "def foo():\n",
    "    print('goodbye,world!')\n",
    "    \n",
    "foo()"
   ]
  },
  {
   "cell_type": "code",
   "execution_count": null,
   "metadata": {
    "collapsed": true
   },
   "outputs": [],
   "source": [
    "#当然上面的这种情况就能很容易避免，但是如果项目是由多人协作进行团队开发的时候，团队中\n",
    "#可能有多个程序员都定义了名为foo的函数，那么怎么解决种种命名冲突呢？答案其实很简单，\n",
    "#python中每个文件都代表一个模块，我们在不同的模块中可以有同名的函数，在使用函数的时候\n",
    "#我们通过import关键字导入指定的模块就可以区分不同模块中的foo函数，代码如下。"
   ]
  },
  {
   "cell_type": "code",
   "execution_count": 7,
   "metadata": {
    "collapsed": true
   },
   "outputs": [],
   "source": [
    "#module1.py\n",
    "def foo():\n",
    "    print('hello,world!')"
   ]
  },
  {
   "cell_type": "code",
   "execution_count": 8,
   "metadata": {
    "collapsed": true
   },
   "outputs": [],
   "source": [
    "#module2.py\n",
    "def foo():\n",
    "    print('goodbye,world!')"
   ]
  },
  {
   "cell_type": "code",
   "execution_count": 10,
   "metadata": {
    "collapsed": false
   },
   "outputs": [
    {
     "name": "stdout",
     "output_type": "stream",
     "text": [
      "hello,world!\n",
      "goodbye,world!\n"
     ]
    }
   ],
   "source": [
    "#测试效果\n",
    "import module1 as m1\n",
    "import module2 as m2\n",
    "m1.foo()\n",
    "m2.foo()"
   ]
  },
  {
   "cell_type": "code",
   "execution_count": 11,
   "metadata": {
    "collapsed": false
   },
   "outputs": [
    {
     "name": "stdout",
     "output_type": "stream",
     "text": [
      "goodbye,world!\n"
     ]
    }
   ],
   "source": [
    "#但是如果将代码写成下面的样子，那么程序中调用的是最后导入的那个foo函数，因为后导入的foo\n",
    "#覆盖了之前导入的foo\n",
    "from module1 import foo\n",
    "from module2 import foo\n",
    "foo() #输出goodby,world!"
   ]
  },
  {
   "cell_type": "code",
   "execution_count": 12,
   "metadata": {
    "collapsed": false
   },
   "outputs": [
    {
     "name": "stdout",
     "output_type": "stream",
     "text": [
      "hello,world!\n"
     ]
    }
   ],
   "source": [
    "#但是如果将代码写成下面的样子，那么程序中调用的是最后导入的那个foo函数，因为后导入的foo\n",
    "#覆盖了之前导入的foo\n",
    "from module2 import foo\n",
    "from module1 import foo\n",
    "foo() # 输出hello,world!"
   ]
  },
  {
   "cell_type": "raw",
   "metadata": {},
   "source": [
    "需要说明的是，如果我们导入的模块除了定义函数之外还有可以执行的代码，那么python解释器在导入这个模块时就睡执行这些代码，事实上我们可能并不希望如此，因此如果我们在编写执行代码，最好是将这些执行代码放入如下所示的条件中，这样的话，除非直接运行该模块，if条件下的这些代码是不会执行的，因为只有直接执行的模块的名字才是\"__main__\"."
   ]
  },
  {
   "cell_type": "code",
   "execution_count": 13,
   "metadata": {
    "collapsed": false
   },
   "outputs": [
    {
     "name": "stdout",
     "output_type": "stream",
     "text": [
      "call foo()\n",
      "call bar()\n"
     ]
    }
   ],
   "source": [
    "#module3.py\n",
    "def foo():\n",
    "    pass\n",
    "\n",
    "def bar():\n",
    "    pass\n",
    "\n",
    "#__name__是python中的一个隐含的变量它代表了模块的名字\n",
    "#只有被python解释器直接执行的模块的名字才是__main__\n",
    "if __name__ == \"__main__\":\n",
    "    print('call foo()')\n",
    "    foo()\n",
    "    print('call bar()')\n",
    "    bar()"
   ]
  },
  {
   "cell_type": "code",
   "execution_count": 15,
   "metadata": {
    "collapsed": true
   },
   "outputs": [],
   "source": [
    "import module3\n",
    "#导入module3时，不会执行模块中的if条件成立的代码，以为模块的名字是module3而不是__main__"
   ]
  },
  {
   "cell_type": "code",
   "execution_count": 20,
   "metadata": {
    "collapsed": false
   },
   "outputs": [
    {
     "name": "stdout",
     "output_type": "stream",
     "text": [
      "20与15的最大公约数是:5\n",
      "20与15的最小公倍数是:60\n"
     ]
    }
   ],
   "source": [
    "#练习1：实现计算最大公约数和最小公倍数的函数\n",
    "def gcd(x,y):\n",
    "    (x,y) = (y,x) if x > y else (x,y)\n",
    "    for factor in range(x,0,-1):\n",
    "        if x % factor == 0 and y % factor == 0:\n",
    "            return factor\n",
    "        \n",
    "def lcm(x,y):\n",
    "    return x*y // gcd(x,y)\n",
    "\n",
    "if __name__ == \"__main__\":\n",
    "    print('20与15的最大公约数是:%d' % gcd(20,15))\n",
    "    print('20与15的最小公倍数是:%d' % lcm(20,15))"
   ]
  },
  {
   "cell_type": "code",
   "execution_count": 25,
   "metadata": {
    "collapsed": false
   },
   "outputs": [
    {
     "name": "stdout",
     "output_type": "stream",
     "text": [
      "12321是回文数:True\n",
      "123321是回文数:True\n",
      "1234320是回文数:False\n"
     ]
    }
   ],
   "source": [
    "# 练习2：实现判断一个数是不是回文数的函数\n",
    "def is_palindrome(num):\n",
    "    temp = num\n",
    "    total = 0\n",
    "    while temp > 0:\n",
    "        total = total * 10 + temp % 10\n",
    "        temp //= 10\n",
    "    return total == num\n",
    "\n",
    "if __name__ == \"__main__\":\n",
    "    print('12321是回文数:{0}'.format(is_palindrome(12321)))\n",
    "    print('123321是回文数:{}'.format(is_palindrome(123321)))\n",
    "    print('1234320是回文数:{}'.format(is_palindrome(1234320)))"
   ]
  },
  {
   "cell_type": "code",
   "execution_count": 26,
   "metadata": {
    "collapsed": false
   },
   "outputs": [
    {
     "name": "stdout",
     "output_type": "stream",
     "text": [
      "23是素数:True\n",
      "24是素数:False\n"
     ]
    }
   ],
   "source": [
    "#练习3：实现判断一个数是不是素数的函数\n",
    "def is_prime(num):\n",
    "    for factor in range(2,num):\n",
    "        if num % factor == 0:\n",
    "            return False\n",
    "    return True if num != 1 else False\n",
    "\n",
    "if __name__ == \"__main__\":\n",
    "    print('23是素数:{}'.format(is_prime(23)))\n",
    "    print('24是素数:{}'.format(is_prime(24)))"
   ]
  },
  {
   "cell_type": "code",
   "execution_count": 28,
   "metadata": {
    "collapsed": false
   },
   "outputs": [
    {
     "name": "stdout",
     "output_type": "stream",
     "text": [
      "请输入正整数：12321\n",
      "12321不是回文素数\n"
     ]
    }
   ],
   "source": [
    "#练习4：写一个程序判断输入的正整数是不是回文素数\n",
    "def is_palindrome(num):\n",
    "    temp = num\n",
    "    total = 0\n",
    "    while temp > 0:\n",
    "        total = total * 10 + temp % 10\n",
    "        temp //= 10\n",
    "    return total == num \n",
    "\n",
    "def is_prime(num):\n",
    "    for factor in range(2,num):\n",
    "        if num % factor == 0:\n",
    "            return False\n",
    "    return True if num != 1 else False\n",
    "\n",
    "if __name__ == \"__main__\":\n",
    "    num = int(input('请输入正整数：'))\n",
    "    if is_palindrome(num) & is_prime(num):\n",
    "        print('%d是回文素数' % num)\n",
    "    else:\n",
    "        print('%d不是回文素数' % num)"
   ]
  },
  {
   "cell_type": "raw",
   "metadata": {},
   "source": [
    "通过上面的程序可以看出，当我们将代码重复出现的和相对独立的功能抽取成函数后，我们可以组合使用这些函数来解决更为复杂的问题，这也是我们为什么要定义和使用函数的一个非常重要的原因。"
   ]
  },
  {
   "cell_type": "code",
   "execution_count": 35,
   "metadata": {
    "collapsed": false
   },
   "outputs": [
    {
     "name": "stdout",
     "output_type": "stream",
     "text": [
      "hello\n",
      "100\n"
     ]
    }
   ],
   "source": [
    "#最后，我们来讨论一下python中有关变量作用于的问题。\n",
    "def foo():\n",
    "    b = 'hello'\n",
    "    \n",
    "    def bar(): #python中可以在函数的内部再定义函数\n",
    "        c = True\n",
    "        print(a)\n",
    "        print(b)\n",
    "    #print(c) # NameError:name 'c' is not defined\n",
    "    \n",
    "    bar() \n",
    "        \n",
    "        \n",
    "if __name__ == \"__main__\":\n",
    "    a = 100\n",
    "    #print(b) # NameError: name 'b' is not defined\n",
    "    foo()"
   ]
  },
  {
   "cell_type": "raw",
   "metadata": {},
   "source": [
    "上面的代码能够顺利地执行下去并且能够打印100和\"hello\"，但注意到了，在bar函数的内部并没有定义a和b两个变量，那么a和b是从哪里来的。在上面的代码的if分支中定义了一个变量a，这是一个全局变量(global variable),属于全局作用域，因为他没有定义在任何的一个函数里面。在上面的foo函数中我们定义了变量b，这是一个定义在函数中的局部变量(local variable)，属于局部作用域，在foo函数的外部并不能访问到它；但对于foo函数内部的bar函数来说，变量b属于嵌套作用域，在bar函数中我们是可以访问到它的。bar函数中的变量c属于局部作用域，在bar函数之外是无法访问到的。事实上，python查找一个变量是会按照\"局部作用域\"、\"嵌套作用域\"、\"全局作用域\"和\"内置作用域\"的顺序进行搜索。所谓的\"内置作用域\"就是python内置的那些隐含标识符min、len等都属于内置作用域。"
   ]
  },
  {
   "cell_type": "code",
   "execution_count": 37,
   "metadata": {
    "collapsed": false
   },
   "outputs": [
    {
     "name": "stdout",
     "output_type": "stream",
     "text": [
      "200\n",
      "100\n"
     ]
    }
   ],
   "source": [
    "#再看看下面这段代码，我们希望通过函数调用修改全局变量a的值，但是实际上下面的代码是做不到的\n",
    "def foo():\n",
    "    a = 200\n",
    "    print(a) # 200\n",
    "    \n",
    "if __name__ == \"__main__\":\n",
    "    a = 100 \n",
    "    foo()\n",
    "    print(a) # 100"
   ]
  },
  {
   "cell_type": "raw",
   "metadata": {},
   "source": [
    "在调用foo函数后，我们发现a的值仍然是100，这是因为当我们在韩式foo中写a=200的时候，是重新定义了一个名字为a的局部变量，它和全局作用域的a并不是同一个变量，因为局部作用域中有了自己的变量a，因此foo函数不在搜索全局作用域中的a。如果我们希望在foo函数中修改全局作用不中的a，代码如下。"
   ]
  },
  {
   "cell_type": "code",
   "execution_count": 38,
   "metadata": {
    "collapsed": false
   },
   "outputs": [
    {
     "name": "stdout",
     "output_type": "stream",
     "text": [
      "200\n",
      "200\n"
     ]
    }
   ],
   "source": [
    "def foo():\n",
    "    global a\n",
    "    a = 200\n",
    "    print(a) # 200\n",
    "    \n",
    "if __name__ == \"__main__\":\n",
    "    a = 100 \n",
    "    foo()\n",
    "    print(a) # 200"
   ]
  },
  {
   "cell_type": "raw",
   "metadata": {},
   "source": [
    "我们可以使用global关键字来指示foo函数中的变量a来自全局作用域，如果全局作用域中a，那么下面一行的代码就会定义变量a并将其置于全局作用域。同理，如果我们希望函数的内部函数能够修改嵌套作用域中的变量，可以使用nonlocal关键字来指示变量来自于嵌套作用域"
   ]
  },
  {
   "cell_type": "raw",
   "metadata": {},
   "source": [
    "在实际开发中，我们应该尽量较少对全局变量的使用，因为全局变量的作用域和影响国语广泛，可能会发生意料之外的修改和使用，除此之外全局变量比局部变量拥有更长的生命周期，可能导致对象占用的内存时间无法被垃圾回收。事实上，减少对全局变量的使用，也是降低代码之间耦合度的一个重要的举措，同时也是对迪米特法则的践行。减少全局变量的使用意味着我们应该尽量让变量的作用域在函数的内部，但是如果我们希望一个局部变量的生命周期延长，使其在函数调用结束后依然可以访问，这时候就需要使用闭包。"
   ]
  },
  {
   "cell_type": "code",
   "execution_count": 39,
   "metadata": {
    "collapsed": true
   },
   "outputs": [],
   "source": [
    "#说了这么多，其实结论很简单，从现在开始我们可以将python代码按照下面的格式进行书写，这一\n",
    "#点点的改进就是在我们理解了函数和作用域的基础上跨出的巨大的一步\n",
    "def main():\n",
    "    #TODO: Add your code here\n",
    "    pass\n",
    "\n",
    "if __name__ == \"__main__\":\n",
    "    main()"
   ]
  }
 ],
 "metadata": {
  "anaconda-cloud": {},
  "kernelspec": {
   "display_name": "Python [default]",
   "language": "python",
   "name": "python3"
  },
  "language_info": {
   "codemirror_mode": {
    "name": "ipython",
    "version": 3
   },
   "file_extension": ".py",
   "mimetype": "text/x-python",
   "name": "python",
   "nbconvert_exporter": "python",
   "pygments_lexer": "ipython3",
   "version": "3.5.5"
  }
 },
 "nbformat": 4,
 "nbformat_minor": 1
}
